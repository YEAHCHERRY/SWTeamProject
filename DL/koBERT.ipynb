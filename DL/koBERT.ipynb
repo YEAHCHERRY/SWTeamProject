{
 "cells": [
  {
   "cell_type": "code",
   "execution_count": null,
   "metadata": {
    "scrolled": true
   },
   "outputs": [],
   "source": [
    "!pip install pandas"
   ]
  },
  {
   "cell_type": "code",
   "execution_count": null,
   "metadata": {
    "id": "FZZZSqo_WVDx"
   },
   "outputs": [],
   "source": [
    "import os\n",
    "from tqdm import tqdm\n",
    "import pandas as pd\n",
    "import re"
   ]
  },
  {
   "cell_type": "markdown",
   "metadata": {
    "id": "yYRbPx78WKxE"
   },
   "source": [
    "##데이터 로드"
   ]
  },
  {
   "cell_type": "code",
   "execution_count": null,
   "metadata": {
    "id": "57iQMX-UVL3Q"
   },
   "outputs": [],
   "source": [
    "file_path = 'rocket_profile.csv'\n",
    "train = pd.read_csv(file_path, encoding='utf-8', sep='`')\n",
    "train.info()"
   ]
  },
  {
   "cell_type": "markdown",
   "metadata": {
    "id": "CODpoN59WHgt"
   },
   "source": [
    "##데이터 전처리"
   ]
  },
  {
   "cell_type": "code",
   "execution_count": null,
   "metadata": {
    "id": "CTJI9tpHO9TO"
   },
   "outputs": [],
   "source": [
    "df = train\n",
    "df.drop(['이름'], axis=1, inplace=True)\n",
    "df.head()"
   ]
  },
  {
   "cell_type": "code",
   "execution_count": null,
   "metadata": {
    "id": "MW7kVMz1S7WJ"
   },
   "outputs": [],
   "source": [
    "def normalize_text(text):\n",
    "  # remove non-UTF\n",
    "  text = text.encode(\"utf-8\", \"ignore\").decode()\n",
    "  return text"
   ]
  },
  {
   "cell_type": "code",
   "execution_count": null,
   "metadata": {
    "id": "vav3lEhKYOOQ"
   },
   "outputs": [],
   "source": [
    "for i in range(df.shape[0]):\n",
    "  for j in range(df.shape[1]):\n",
    "    df.iat[i,j] = normalize_text((str(df.iat[i,j])))\n",
    "df.tail()"
   ]
  },
  {
   "cell_type": "code",
   "execution_count": null,
   "metadata": {
    "id": "fgowgFKOI96l"
   },
   "outputs": [],
   "source": [
    "!pip install datasets\n",
    "!pip install -U scikit-learn"
   ]
  },
  {
   "cell_type": "code",
   "execution_count": null,
   "metadata": {
    "id": "sI2a_E99I-zp",
    "scrolled": true
   },
   "outputs": [],
   "source": [
    "import datasets\n",
    "from datasets import load_metric, Dataset, load_dataset"
   ]
  },
  {
   "cell_type": "code",
   "execution_count": null,
   "metadata": {
    "id": "3HITwv8jJcLO"
   },
   "outputs": [],
   "source": [
    "# train, valid 데이터 분리\n",
    "from sklearn.model_selection import train_test_split\n",
    "\n",
    "train_df, valid_df = train_test_split(\n",
    "        df,\n",
    "        random_state=210,\n",
    "        test_size=0.1,\n",
    "        )\n",
    "\n",
    "train_df.head()"
   ]
  },
  {
   "cell_type": "code",
   "execution_count": null,
   "metadata": {
    "id": "VQq5xKN5SCBJ"
   },
   "outputs": [],
   "source": [
    "# DatasetDict 타입으로 변환\n",
    "train_dataset = Dataset.from_dict(train_df)\n",
    "valid_dataset = Dataset.from_dict(valid_df)\n",
    "dataset = datasets.DatasetDict({\"train\":train_dataset,\"valid\":valid_dataset})\n",
    "dataset"
   ]
  },
  {
   "cell_type": "markdown",
   "metadata": {
    "id": "6OR4NM9M0A3i"
   },
   "source": [
    "##토큰화"
   ]
  },
  {
   "cell_type": "code",
   "execution_count": null,
   "metadata": {
    "id": "43HNlQwvKttz",
    "scrolled": false
   },
   "outputs": [],
   "source": [
    "!pip install transformers\n",
    "!pip install 'git+https://git@github.com/SKTBrain/KoBERT.git@master'\n",
    "!pip install 'git+https://github.com/SKTBrain/KOBERT.git#egg=kobert_tokenizer&subdirectory=kobert_hf'"
   ]
  },
  {
   "cell_type": "code",
   "execution_count": null,
   "metadata": {
    "id": "mQfX0goPu5Qd"
   },
   "outputs": [],
   "source": [
    "import numpy as np\n",
    "import pickle\n",
    "import torch,gc\n",
    "from kobert_tokenizer import KoBERTTokenizer\n",
    "from kobert import get_pytorch_kobert_model\n",
    "from transformers import RobertaModel, TrainingArguments, Trainer"
   ]
  },
  {
   "cell_type": "code",
   "execution_count": null,
   "metadata": {},
   "outputs": [],
   "source": [
    "from selenium import webdriver\n",
    "\n",
    "print (\"Selenium webdriver Version: %s\" % (webdriver.__version__))"
   ]
  },
  {
   "cell_type": "code",
   "execution_count": null,
   "metadata": {
    "id": "OUp0ROhZI3-D"
   },
   "outputs": [],
   "source": [
    "batch_size = 16\n",
    "epoch_num = 8\n",
    "MAX_LEN = 128\n",
    "metric = load_metric(\"accuracy\")\n",
    "metric_name = \"accuracy\""
   ]
  },
  {
   "cell_type": "code",
   "execution_count": null,
   "metadata": {
    "id": "QmX7bqcKefLn"
   },
   "outputs": [],
   "source": [
    "def compute_metrics(eval_pred):\n",
    "    predictions, labels = eval_pred\n",
    "    predictions = np.argmax(predictions, axis=1)\n",
    "    return metric.compute(predictions=predictions, references=labels)"
   ]
  },
  {
   "cell_type": "code",
   "execution_count": null,
   "metadata": {
    "id": "sJJaDkxOKuYj"
   },
   "outputs": [],
   "source": [
    "tokenizer = KoBERTTokenizer.from_pretrained('skt/kobert-base-v1')\n",
    "tokenizer.truncation_side = 'left'"
   ]
  },
  {
   "cell_type": "code",
   "execution_count": null,
   "metadata": {
    "id": "1AOXf82pK6Kh"
   },
   "outputs": [],
   "source": [
    "def tokenize_function(sample):\n",
    "    return tokenizer(\n",
    "        sample['프로젝트'],\n",
    "        padding=True,\n",
    "        max_length=MAX_LEN,\n",
    "        truncation=True,\n",
    "        return_token_type_ids=False,\n",
    "        return_attention_mask=False,\n",
    "        # return_length=True,\n",
    "    )"
   ]
  },
  {
   "cell_type": "code",
   "execution_count": null,
   "metadata": {
    "id": "tO_Drm3nRKnD"
   },
   "outputs": [],
   "source": [
    "# 함수 테스트\n",
    "tokenize_function(dataset[\"train\"][:5])"
   ]
  },
  {
   "cell_type": "code",
   "execution_count": null,
   "metadata": {
    "id": "j2SPJDkrXDnk"
   },
   "outputs": [],
   "source": [
    "# 토큰화\n",
    "encoded_dataset = dataset.map(tokenize_function, remove_columns=['관심분야', '소개', '경력', '활동분야', '프로젝트'], batched=True)"
   ]
  },
  {
   "cell_type": "code",
   "execution_count": null,
   "metadata": {
    "id": "Rml9mD7c-YkQ"
   },
   "outputs": [],
   "source": [
    "with open(\"encoded_dataset\", \"wb\" ) as file:\n",
    "  pickle.dump(encoded_dataset, file)"
   ]
  },
  {
   "cell_type": "code",
   "execution_count": null,
   "metadata": {
    "id": "8wHYHKeJ-wDx"
   },
   "outputs": [],
   "source": [
    "with open(\"encoded_dataset\", \"rb\" ) as file:\n",
    "  encoded_dataset = pickle.load(file)\n",
    "  print(encoded_dataset)"
   ]
  },
  {
   "cell_type": "markdown",
   "metadata": {
    "id": "aLA1v3InKy4o"
   },
   "source": [
    "##모델 구성"
   ]
  },
  {
   "cell_type": "code",
   "execution_count": null,
   "metadata": {
    "id": "a84KT5PIKxfG"
   },
   "outputs": [],
   "source": [
    "# 모델 로드\n",
    "model, vocab  = get_pytorch_kobert_model()"
   ]
  },
  {
   "cell_type": "code",
   "execution_count": null,
   "metadata": {
    "id": "v_Ms0BgEaf27"
   },
   "outputs": [],
   "source": [
    "args = TrainingArguments(\n",
    "    \"test_koBERT\",\n",
    "    evaluation_strategy=\"epoch\", save_strategy=\"epoch\", logging_strategy=\"epoch\", \n",
    "    learning_rate=2e-5,\n",
    "    per_device_train_batch_size=batch_size,\n",
    "    per_device_eval_batch_size=batch_size,\n",
    "    num_train_epochs=epoch_num,\n",
    "    weight_decay=0.01,\n",
    "    do_train=True,\n",
    "    do_eval=True,\n",
    "    load_best_model_at_end=True,\n",
    "    metric_for_best_model=metric_name,\n",
    "    remove_unused_columns=False,\n",
    ")"
   ]
  },
  {
   "cell_type": "code",
   "execution_count": null,
   "metadata": {
    "id": "3ffbDECgdxXT"
   },
   "outputs": [],
   "source": [
    "trainer = Trainer(\n",
    "    model,\n",
    "    args,\n",
    "    train_dataset=encoded_dataset[\"train\"],\n",
    "    eval_dataset=encoded_dataset[\"valid\"],\n",
    "    tokenizer=tokenizer,\n",
    "    compute_metrics=compute_metrics,\n",
    ")"
   ]
  },
  {
   "cell_type": "code",
   "execution_count": null,
   "metadata": {
    "id": "RKtF4t-75Oiw"
   },
   "outputs": [],
   "source": [
    "gc.collect()\n",
    "torch.cuda.empty_cache()"
   ]
  },
  {
   "cell_type": "code",
   "execution_count": null,
   "metadata": {
    "id": "b46rux8zcn0M"
   },
   "outputs": [],
   "source": [
    "trainer.train()\n",
    "trainer.save_model(\"koBERT_model1\")"
   ]
  },
  {
   "cell_type": "markdown",
   "metadata": {
    "id": "4BJpAmS4Iklx"
   },
   "source": [
    "##TEST"
   ]
  },
  {
   "cell_type": "code",
   "execution_count": null,
   "metadata": {
    "id": "LXyJWsTmIrRg"
   },
   "outputs": [],
   "source": [
    "file_path = \"test.csv\"\n",
    "test = pd.read_csv(file_path, encoding='utf-8', sep='`')\n",
    "test.info()"
   ]
  },
  {
   "cell_type": "code",
   "execution_count": null,
   "metadata": {
    "id": "QRkEFFMYIr4i"
   },
   "outputs": [],
   "source": [
    "# test.csv 전처리\n",
    "test.drop(['이름'], axis=1, inplace=True)\n",
    "\n",
    "for i in range(test.shape[0]):\n",
    "  for j in range(test.shape[1]):\n",
    "    test.iat[i,j] = normalize_text((str(test.iat[i,j])))\n",
    "test"
   ]
  },
  {
   "cell_type": "code",
   "execution_count": null,
   "metadata": {
    "id": "CAuhXKoyIy3T"
   },
   "outputs": [],
   "source": [
    "test.to_csv('preprocessed_test.csv',index=False)"
   ]
  },
  {
   "cell_type": "code",
   "execution_count": null,
   "metadata": {
    "id": "lcDL32-nA4Bt"
   },
   "outputs": [],
   "source": [
    "TEST = \"preprocessed_test.csv\"\n",
    "test_dataset = load_dataset(\"csv\", data_files=TEST)['train']\n",
    "test_dataset = test_dataset.map(tokenize_function, remove_columns=['관심분야', '소개', '경력', '활동분야', '프로젝트'])"
   ]
  },
  {
   "cell_type": "code",
   "execution_count": null,
   "metadata": {
    "id": "a9D4u1oa0SOQ"
   },
   "outputs": [],
   "source": [
    "predictions = trainer.predict(test_dataset)\n",
    "with open(\"test_result.txt\", \"w\") as fi:\n",
    "    fi.write(predictions)"
   ]
  }
 ],
 "metadata": {
  "accelerator": "GPU",
  "colab": {
   "machine_shape": "hm",
   "private_outputs": true,
   "provenance": []
  },
  "kernelspec": {
   "display_name": "Python 3",
   "language": "python",
   "name": "python3"
  },
  "language_info": {
   "codemirror_mode": {
    "name": "ipython",
    "version": 3
   },
   "file_extension": ".py",
   "mimetype": "text/x-python",
   "name": "python",
   "nbconvert_exporter": "python",
   "pygments_lexer": "ipython3",
   "version": "3.8.10"
  }
 },
 "nbformat": 4,
 "nbformat_minor": 1
}
